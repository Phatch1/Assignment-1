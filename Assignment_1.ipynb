{
  "nbformat": 4,
  "nbformat_minor": 0,
  "metadata": {
    "colab": {
      "name": "Assignment 1.ipynb",
      "provenance": []
    },
    "kernelspec": {
      "name": "python3",
      "display_name": "Python 3"
    },
    "language_info": {
      "name": "python"
    }
  },
  "cells": [
    {
      "cell_type": "markdown",
      "source": [
        "6304022610278 Phatchara Suepuaong"
      ],
      "metadata": {
        "id": "QgeKGHPWSyhU"
      }
    },
    {
      "cell_type": "code",
      "execution_count": null,
      "metadata": {
        "colab": {
          "base_uri": "https://localhost:8080/"
        },
        "id": "4NprzHAnX4ef",
        "outputId": "1fb8641d-d77f-4291-e2f3-55bb8a7f6e13"
      },
      "outputs": [
        {
          "output_type": "stream",
          "name": "stdout",
          "text": [
            "Enter n0: 1\n",
            "Enter n1: 2\n",
            "Enter n2: 3\n",
            "Enter n3: 4\n",
            "Enter n4: 5\n",
            "Enter n5: 6\n",
            "Enter n6: 7\n",
            "Enter n7: 8\n",
            "Enter n8: 9\n",
            "Enter n9: 0\n",
            "Enter n10: 1\n",
            "Enter n11: 2\n",
            "1   2 3 4 5   6 7 8 9 0   1 2   1\n"
          ]
        }
      ],
      "source": [
        "import math\n",
        "\n",
        "\n",
        "n0 = int(input(\"Enter n0: \"))\n",
        "n1 = int(input(\"Enter n1: \"))\n",
        "n2 = int(input(\"Enter n2: \"))\n",
        "n3 = int(input(\"Enter n3: \"))\n",
        "n4 = int(input(\"Enter n4: \"))\n",
        "n5 = int(input(\"Enter n5: \"))\n",
        "n6 = int(input(\"Enter n6: \"))\n",
        "n7 = int(input(\"Enter n7: \"))\n",
        "n8 = int(input(\"Enter n8: \"))\n",
        "n9 = int(input(\"Enter n9: \"))\n",
        "n10 = int(input(\"Enter n10: \"))\n",
        "n11 = int(input(\"Enter n11: \"))\n",
        "\n",
        "\n",
        "\n",
        "\n",
        "# n0 = int(1)\n",
        "# n1 = int(1)\n",
        "# n2 = int(0)\n",
        "# n3 = int(0)\n",
        "# n4 = int(7)\n",
        "# n5 = int(0)\n",
        "# n6 = int(2)\n",
        "# n7 = int(3)\n",
        "# n8 = int(4)\n",
        "# n9 = int(5)\n",
        "# n10 = int(1)\n",
        "# n11 = int(2)\n",
        "\n",
        "x12 = (11-(13*n0+12*n1+11*n2+10*n3+9*n4+8*n5+7*n6+6*n7+5*n8+4*n9+3*n10+2*n11)%11)%10\n",
        "\n",
        "\n",
        "print( n0,' ',n1,n2,n3,n4,' ', n5,n6,n7,n8,n9,' ',n10,n11,' ',x12) ;"
      ]
    },
    {
      "cell_type": "code",
      "source": [
        ""
      ],
      "metadata": {
        "id": "YsFrtaHjSsxc"
      },
      "execution_count": null,
      "outputs": []
    },
    {
      "cell_type": "code",
      "source": [
        "from numpy import median\n",
        "\n",
        "num_list = []\n",
        "print(\"input num1\")\n",
        "num_list.append(int(input()))\n",
        "print(\"input num2\")\n",
        "num_list.append(int(input()))\n",
        "print(\"input num3\")\n",
        "num_list.append(int(input()))\n",
        "print(\"input num4\")\n",
        "num_list.append(int(input()))\n",
        "print(\"input num5\")\n",
        "num_list.append(int(input()))\n",
        "print(median(num_list))"
      ],
      "metadata": {
        "colab": {
          "base_uri": "https://localhost:8080/",
          "height": 0
        },
        "id": "XT7lM1okc8In",
        "outputId": "c51f8749-6d32-461f-9e21-f90f8e8fc958"
      },
      "execution_count": 1,
      "outputs": [
        {
          "output_type": "stream",
          "name": "stdout",
          "text": [
            "input num1\n",
            "1\n",
            "input num2\n",
            "2\n",
            "input num3\n",
            "3\n",
            "input num4\n",
            "4\n",
            "input num5\n",
            "5\n",
            "3.0\n"
          ]
        }
      ]
    }
  ]
}